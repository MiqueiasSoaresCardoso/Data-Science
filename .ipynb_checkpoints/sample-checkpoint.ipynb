{
 "cells": [
  {
   "cell_type": "code",
   "execution_count": 1,
   "id": "initial_id",
   "metadata": {
    "collapsed": true,
    "ExecuteTime": {
     "end_time": "2024-03-14T17:00:56.381563Z",
     "start_time": "2024-03-14T17:00:56.229947Z"
    }
   },
   "outputs": [],
   "source": [
    "import numpy as np\n"
   ]
  },
  {
   "cell_type": "code",
   "outputs": [],
   "source": [
    "venda_valor = [240000,75000,28000,98200,45000,88000]\n",
    "comissoes = [12,8,4,10,3,5]\n"
   ],
   "metadata": {
    "collapsed": false,
    "ExecuteTime": {
     "end_time": "2024-03-14T17:00:56.397437Z",
     "start_time": "2024-03-14T17:00:56.384483Z"
    }
   },
   "id": "ede1f868e33f1070",
   "execution_count": 2
  },
  {
   "cell_type": "code",
   "outputs": [],
   "source": [
    "arrvenda = np.array(venda_valor)\n",
    "com = np.array(comissoes)\n",
    "resultado = arrvenda * (com/100)"
   ],
   "metadata": {
    "collapsed": false,
    "ExecuteTime": {
     "end_time": "2024-03-14T17:00:56.413403Z",
     "start_time": "2024-03-14T17:00:56.400427Z"
    }
   },
   "id": "74cba7e983452e45",
   "execution_count": 3
  },
  {
   "cell_type": "code",
   "outputs": [],
   "source": [],
   "metadata": {
    "collapsed": false,
    "ExecuteTime": {
     "end_time": "2024-03-14T17:00:56.429331Z",
     "start_time": "2024-03-14T17:00:56.420362Z"
    }
   },
   "id": "456d0af530c4d99a",
   "execution_count": 3
  },
  {
   "cell_type": "code",
   "outputs": [],
   "source": [],
   "metadata": {
    "collapsed": false,
    "ExecuteTime": {
     "end_time": "2024-03-14T17:00:56.445281Z",
     "start_time": "2024-03-14T17:00:56.435312Z"
    }
   },
   "id": "6bb38f55eb4b1742",
   "execution_count": 3
  },
  {
   "cell_type": "code",
   "outputs": [],
   "source": [],
   "metadata": {
    "collapsed": false,
    "ExecuteTime": {
     "end_time": "2024-03-14T17:00:56.461229Z",
     "start_time": "2024-03-14T17:00:56.448272Z"
    }
   },
   "id": "70c0256a9b0dde52",
   "execution_count": 3
  }
 ],
 "metadata": {
  "kernelspec": {
   "display_name": "Python 3",
   "language": "python",
   "name": "python3"
  },
  "language_info": {
   "codemirror_mode": {
    "name": "ipython",
    "version": 2
   },
   "file_extension": ".py",
   "mimetype": "text/x-python",
   "name": "python",
   "nbconvert_exporter": "python",
   "pygments_lexer": "ipython2",
   "version": "2.7.6"
  }
 },
 "nbformat": 4,
 "nbformat_minor": 5
}
