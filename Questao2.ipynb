{
 "cells": [
  {
   "cell_type": "code",
   "execution_count": 1,
   "id": "aaac33cf-1844-46f3-9ead-0a6c4edcb1d2",
   "metadata": {
    "ExecuteTime": {
     "end_time": "2024-03-14T17:33:13.195059Z",
     "start_time": "2024-03-14T17:33:13.178200Z"
    }
   },
   "outputs": [],
   "source": [
    "import requests\n",
    "import pandas as pd"
   ]
  },
  {
   "cell_type": "code",
   "execution_count": 2,
   "id": "5e58886a-b77a-497e-bd42-7e6e1351e1be",
   "metadata": {
    "ExecuteTime": {
     "end_time": "2024-03-14T17:33:16.476920Z",
     "start_time": "2024-03-14T17:33:13.201594Z"
    }
   },
   "outputs": [
    {
     "name": "stdin",
     "output_type": "stream",
     "text": [
      "Insira a sigla do estado que deseja buscar as respectivas cidades PB\n"
     ]
    },
    {
     "data": {
      "text/html": [
       "<div>\n",
       "<style scoped>\n",
       "    .dataframe tbody tr th:only-of-type {\n",
       "        vertical-align: middle;\n",
       "    }\n",
       "\n",
       "    .dataframe tbody tr th {\n",
       "        vertical-align: top;\n",
       "    }\n",
       "\n",
       "    .dataframe thead th {\n",
       "        text-align: right;\n",
       "    }\n",
       "</style>\n",
       "<table border=\"1\" class=\"dataframe\">\n",
       "  <thead>\n",
       "    <tr style=\"text-align: right;\">\n",
       "      <th></th>\n",
       "      <th>id</th>\n",
       "      <th>nome</th>\n",
       "      <th>municipio</th>\n",
       "    </tr>\n",
       "  </thead>\n",
       "  <tbody>\n",
       "    <tr>\n",
       "      <th>0</th>\n",
       "      <td>250010605</td>\n",
       "      <td>Água Branca</td>\n",
       "      <td>{'id': 2500106, 'nome': 'Água Branca', 'micror...</td>\n",
       "    </tr>\n",
       "    <tr>\n",
       "      <th>1</th>\n",
       "      <td>250020505</td>\n",
       "      <td>Aguiar</td>\n",
       "      <td>{'id': 2500205, 'nome': 'Aguiar', 'microrregia...</td>\n",
       "    </tr>\n",
       "    <tr>\n",
       "      <th>2</th>\n",
       "      <td>250030405</td>\n",
       "      <td>Alagoa Grande</td>\n",
       "      <td>{'id': 2500304, 'nome': 'Alagoa Grande', 'micr...</td>\n",
       "    </tr>\n",
       "    <tr>\n",
       "      <th>3</th>\n",
       "      <td>250040305</td>\n",
       "      <td>Alagoa Nova</td>\n",
       "      <td>{'id': 2500403, 'nome': 'Alagoa Nova', 'micror...</td>\n",
       "    </tr>\n",
       "    <tr>\n",
       "      <th>4</th>\n",
       "      <td>250050205</td>\n",
       "      <td>Alagoinha</td>\n",
       "      <td>{'id': 2500502, 'nome': 'Alagoinha', 'microrre...</td>\n",
       "    </tr>\n",
       "    <tr>\n",
       "      <th>...</th>\n",
       "      <td>...</td>\n",
       "      <td>...</td>\n",
       "      <td>...</td>\n",
       "    </tr>\n",
       "    <tr>\n",
       "      <th>292</th>\n",
       "      <td>251700110</td>\n",
       "      <td>Mata Virgem</td>\n",
       "      <td>{'id': 2517001, 'nome': 'Umbuzeiro', 'microrre...</td>\n",
       "    </tr>\n",
       "    <tr>\n",
       "      <th>293</th>\n",
       "      <td>251710005</td>\n",
       "      <td>Várzea</td>\n",
       "      <td>{'id': 2517100, 'nome': 'Várzea', 'microrregia...</td>\n",
       "    </tr>\n",
       "    <tr>\n",
       "      <th>294</th>\n",
       "      <td>251720905</td>\n",
       "      <td>Vieirópolis</td>\n",
       "      <td>{'id': 2517209, 'nome': 'Vieirópolis', 'micror...</td>\n",
       "    </tr>\n",
       "    <tr>\n",
       "      <th>295</th>\n",
       "      <td>250550105</td>\n",
       "      <td>Vista Serrana</td>\n",
       "      <td>{'id': 2505501, 'nome': 'Vista Serrana', 'micr...</td>\n",
       "    </tr>\n",
       "    <tr>\n",
       "      <th>296</th>\n",
       "      <td>251740705</td>\n",
       "      <td>Zabelê</td>\n",
       "      <td>{'id': 2517407, 'nome': 'Zabelê', 'microrregia...</td>\n",
       "    </tr>\n",
       "  </tbody>\n",
       "</table>\n",
       "<p>297 rows × 3 columns</p>\n",
       "</div>"
      ],
      "text/plain": [
       "            id           nome  \\\n",
       "0    250010605    Água Branca   \n",
       "1    250020505         Aguiar   \n",
       "2    250030405  Alagoa Grande   \n",
       "3    250040305    Alagoa Nova   \n",
       "4    250050205      Alagoinha   \n",
       "..         ...            ...   \n",
       "292  251700110    Mata Virgem   \n",
       "293  251710005         Várzea   \n",
       "294  251720905    Vieirópolis   \n",
       "295  250550105  Vista Serrana   \n",
       "296  251740705         Zabelê   \n",
       "\n",
       "                                             municipio  \n",
       "0    {'id': 2500106, 'nome': 'Água Branca', 'micror...  \n",
       "1    {'id': 2500205, 'nome': 'Aguiar', 'microrregia...  \n",
       "2    {'id': 2500304, 'nome': 'Alagoa Grande', 'micr...  \n",
       "3    {'id': 2500403, 'nome': 'Alagoa Nova', 'micror...  \n",
       "4    {'id': 2500502, 'nome': 'Alagoinha', 'microrre...  \n",
       "..                                                 ...  \n",
       "292  {'id': 2517001, 'nome': 'Umbuzeiro', 'microrre...  \n",
       "293  {'id': 2517100, 'nome': 'Várzea', 'microrregia...  \n",
       "294  {'id': 2517209, 'nome': 'Vieirópolis', 'micror...  \n",
       "295  {'id': 2505501, 'nome': 'Vista Serrana', 'micr...  \n",
       "296  {'id': 2517407, 'nome': 'Zabelê', 'microrregia...  \n",
       "\n",
       "[297 rows x 3 columns]"
      ]
     },
     "execution_count": 2,
     "metadata": {},
     "output_type": "execute_result"
    }
   ],
   "source": [
    "state = input(\"Insira a sigla do estado que deseja buscar as respectivas cidades\")\n",
    "url = \"https://servicodados.ibge.gov.br/api/v1/localidades/estados/{}/distritos\".format(state)\n",
    "response = requests.request(\"GET\",url)\n",
    "result = pd.DataFrame(response.json())\n",
    "result\n"
   ]
  },
  {
   "cell_type": "code",
   "execution_count": null,
   "id": "43faf378-b55b-4426-b0e4-4dc830f794e2",
   "metadata": {},
   "outputs": [],
   "source": []
  }
 ],
 "metadata": {
  "kernelspec": {
   "display_name": "Python 3 (ipykernel)",
   "language": "python",
   "name": "python3"
  },
  "language_info": {
   "codemirror_mode": {
    "name": "ipython",
    "version": 3
   },
   "file_extension": ".py",
   "mimetype": "text/x-python",
   "name": "python",
   "nbconvert_exporter": "python",
   "pygments_lexer": "ipython3",
   "version": "3.9.7"
  }
 },
 "nbformat": 4,
 "nbformat_minor": 5
}
