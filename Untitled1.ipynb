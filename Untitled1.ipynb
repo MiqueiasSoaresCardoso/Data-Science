{
 "cells": [
  {
   "cell_type": "raw",
   "source": [
    "import pandas as pd"
   ],
   "metadata": {
    "collapsed": false
   },
   "id": "2f1bd30397416cc2"
  },
  {
   "cell_type": "code",
   "outputs": [],
   "source": [
    "import pandas as pd"
   ],
   "metadata": {
    "collapsed": false
   },
   "id": "64d57256585761a0"
  },
  {
   "cell_type": "code",
   "outputs": [],
   "source": [
    "base = pd.read_json('https://servicodados.ibge.gov.br/api/v2/censos/nomes/ranking/?decada=1990')"
   ],
   "metadata": {
    "collapsed": false,
    "ExecuteTime": {
     "end_time": "2024-03-14T19:16:55.545102Z",
     "start_time": "2024-03-14T19:16:55.152184Z"
    }
   },
   "id": "931b4b257fde29ae",
   "execution_count": 12
  },
  {
   "cell_type": "code",
   "outputs": [
    {
     "data": {
      "text/plain": "  localidade  sexo                                                res\n0         BR   NaN  [{'nome': 'MARIA', 'frequencia': 917968, 'rank...",
      "text/html": "<div>\n<style scoped>\n    .dataframe tbody tr th:only-of-type {\n        vertical-align: middle;\n    }\n\n    .dataframe tbody tr th {\n        vertical-align: top;\n    }\n\n    .dataframe thead th {\n        text-align: right;\n    }\n</style>\n<table border=\"1\" class=\"dataframe\">\n  <thead>\n    <tr style=\"text-align: right;\">\n      <th></th>\n      <th>localidade</th>\n      <th>sexo</th>\n      <th>res</th>\n    </tr>\n  </thead>\n  <tbody>\n    <tr>\n      <th>0</th>\n      <td>BR</td>\n      <td>NaN</td>\n      <td>[{'nome': 'MARIA', 'frequencia': 917968, 'rank...</td>\n    </tr>\n  </tbody>\n</table>\n</div>"
     },
     "metadata": {},
     "output_type": "display_data"
    }
   ],
   "source": [
    "base.head()\n",
    "#base.shape\n",
    "display(base)"
   ],
   "metadata": {
    "collapsed": false,
    "ExecuteTime": {
     "end_time": "2024-03-14T19:19:13.186272Z",
     "start_time": "2024-03-14T19:19:13.146365Z"
    }
   },
   "id": "1d31bd78b613fac3",
   "execution_count": 18
  },
  {
   "cell_type": "code",
   "outputs": [],
   "source": [],
   "metadata": {
    "collapsed": false,
    "ExecuteTime": {
     "end_time": "2024-03-14T19:03:33.103809Z",
     "start_time": "2024-03-14T19:03:33.092841Z"
    }
   },
   "id": "f6230aa39e4adfef",
   "execution_count": 5
  },
  {
   "cell_type": "code",
   "outputs": [
    {
     "data": {
      "text/plain": "{'funcionarios': ['Luiz', 'Maria', 'Júlia'],\n 'vendas': [12000, 18000, 98000],\n 'comissao': [15, 10, 5]}"
     },
     "execution_count": 20,
     "metadata": {},
     "output_type": "execute_result"
    }
   ],
   "source": [
    "dicti = { \"funcionarios\": [\"Luiz\", \"Maria\", \"Júlia\"],\n",
    "          \"vendas\": [12000, 18000, 98000],\n",
    "          \"comissao\": [15,10,5]\n",
    "}\n",
    "dicti"
   ],
   "metadata": {
    "collapsed": false,
    "ExecuteTime": {
     "end_time": "2024-03-14T19:24:38.225545Z",
     "start_time": "2024-03-14T19:24:38.210594Z"
    }
   },
   "id": "fe987feb81c8b0f4",
   "execution_count": 20
  },
  {
   "cell_type": "code",
   "outputs": [
    {
     "data": {
      "text/plain": "  funcionarios  vendas  comissao\n0         Luiz   12000        15\n1        Maria   18000        10\n2        Júlia   98000         5",
      "text/html": "<div>\n<style scoped>\n    .dataframe tbody tr th:only-of-type {\n        vertical-align: middle;\n    }\n\n    .dataframe tbody tr th {\n        vertical-align: top;\n    }\n\n    .dataframe thead th {\n        text-align: right;\n    }\n</style>\n<table border=\"1\" class=\"dataframe\">\n  <thead>\n    <tr style=\"text-align: right;\">\n      <th></th>\n      <th>funcionarios</th>\n      <th>vendas</th>\n      <th>comissao</th>\n    </tr>\n  </thead>\n  <tbody>\n    <tr>\n      <th>0</th>\n      <td>Luiz</td>\n      <td>12000</td>\n      <td>15</td>\n    </tr>\n    <tr>\n      <th>1</th>\n      <td>Maria</td>\n      <td>18000</td>\n      <td>10</td>\n    </tr>\n    <tr>\n      <th>2</th>\n      <td>Júlia</td>\n      <td>98000</td>\n      <td>5</td>\n    </tr>\n  </tbody>\n</table>\n</div>"
     },
     "execution_count": 21,
     "metadata": {},
     "output_type": "execute_result"
    }
   ],
   "source": [
    "basedict = pd.DataFrame(dicti)\n",
    "basedict"
   ],
   "metadata": {
    "collapsed": false,
    "ExecuteTime": {
     "end_time": "2024-03-14T19:25:11.923546Z",
     "start_time": "2024-03-14T19:25:11.902541Z"
    }
   },
   "id": "8f9cab6714c3df8e",
   "execution_count": 21
  },
  {
   "cell_type": "code",
   "outputs": [],
   "source": [],
   "metadata": {
    "collapsed": false
   },
   "id": "1d526ca0988a058e"
  }
 ],
 "metadata": {
  "kernelspec": {
   "name": "python3",
   "language": "python",
   "display_name": "Python 3 (ipykernel)"
  }
 },
 "nbformat": 4,
 "nbformat_minor": 5
}
