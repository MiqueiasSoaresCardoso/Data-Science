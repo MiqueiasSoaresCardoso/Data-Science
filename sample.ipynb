{
 "cells": [
  {
   "cell_type": "code",
   "execution_count": 63,
   "id": "initial_id",
   "metadata": {
    "ExecuteTime": {
     "end_time": "2024-03-14T18:28:46.379464Z",
     "start_time": "2024-03-14T18:28:46.362522Z"
    }
   },
   "outputs": [],
   "source": [
    "import numpy as np\n"
   ]
  },
  {
   "cell_type": "code",
   "execution_count": 64,
   "id": "ede1f868e33f1070",
   "metadata": {
    "collapsed": false,
    "ExecuteTime": {
     "end_time": "2024-03-14T18:28:46.411359Z",
     "start_time": "2024-03-14T18:28:46.393421Z"
    }
   },
   "outputs": [],
   "source": [
    "venda_valor = [240000,75000,28000,98200,45000,88000]\n",
    "comissoes = [12,8,4,10,3,5]\n"
   ]
  },
  {
   "cell_type": "code",
   "execution_count": 65,
   "id": "74cba7e983452e45",
   "metadata": {
    "collapsed": false,
    "ExecuteTime": {
     "end_time": "2024-03-14T18:28:46.457352Z",
     "start_time": "2024-03-14T18:28:46.436420Z"
    }
   },
   "outputs": [
    {
     "name": "stdout",
     "output_type": "stream",
     "text": [
      "[28800.  6000.  1120.  9820.  1350.  4400.]\n"
     ]
    }
   ],
   "source": [
    "arrvenda = np.array(venda_valor)\n",
    "com = np.array(comissoes)\n",
    "resultado = arrvenda * (com/100)\n",
    "print(resultado)"
   ]
  },
  {
   "cell_type": "code",
   "execution_count": 66,
   "id": "456d0af530c4d99a",
   "metadata": {
    "collapsed": false,
    "ExecuteTime": {
     "end_time": "2024-03-14T18:28:46.473297Z",
     "start_time": "2024-03-14T18:28:46.461340Z"
    }
   },
   "outputs": [
    {
     "data": {
      "text/plain": "dtype('int32')"
     },
     "execution_count": 66,
     "metadata": {},
     "output_type": "execute_result"
    }
   ],
   "source": [
    "#mostra o tipo de daddos que eu tenho dentro do array\n",
    "arrvenda.dtype"
   ]
  },
  {
   "cell_type": "code",
   "execution_count": 67,
   "id": "6bb38f55eb4b1742",
   "metadata": {
    "collapsed": false,
    "ExecuteTime": {
     "end_time": "2024-03-14T18:28:46.489260Z",
     "start_time": "2024-03-14T18:28:46.476286Z"
    }
   },
   "outputs": [
    {
     "data": {
      "text/plain": "dtype('int32')"
     },
     "execution_count": 67,
     "metadata": {},
     "output_type": "execute_result"
    }
   ],
   "source": [
    "arrayint = np.array([1,2,3,4,5,6,7,8,9])\n",
    "arrayint.dtype"
   ]
  },
  {
   "cell_type": "code",
   "execution_count": 68,
   "id": "70c0256a9b0dde52",
   "metadata": {
    "collapsed": false,
    "ExecuteTime": {
     "end_time": "2024-03-14T18:28:46.505195Z",
     "start_time": "2024-03-14T18:28:46.493232Z"
    }
   },
   "outputs": [
    {
     "data": {
      "text/plain": "dtype('float64')"
     },
     "execution_count": 68,
     "metadata": {},
     "output_type": "execute_result"
    }
   ],
   "source": [
    "array2 = np.array([1,2,3,4,5,6,7,8,9.0])\n",
    "array2.dtype\n"
   ]
  },
  {
   "cell_type": "code",
   "outputs": [
    {
     "name": "stdout",
     "output_type": "stream",
     "text": [
      "[[ 4000  6500  1500     0]\n",
      " [ 7000  5000     0   500]\n",
      " [10000  8000     0  2500]]\n"
     ]
    }
   ],
   "source": [
    "array3 = np.array([1,2,3,'4',6])\n",
    "array3.dtype\n",
    "\n",
    "matrix = np.array([[4000,6500,1500,0],[7000,5000,0,500],[10000,8000,0,2500]])\n",
    "print(matrix)"
   ],
   "metadata": {
    "collapsed": false,
    "ExecuteTime": {
     "end_time": "2024-03-14T18:28:46.536198Z",
     "start_time": "2024-03-14T18:28:46.510217Z"
    }
   },
   "id": "7025acf2b93d9421",
   "execution_count": 69
  },
  {
   "cell_type": "code",
   "outputs": [
    {
     "data": {
      "text/plain": "(3, 4)"
     },
     "execution_count": 70,
     "metadata": {},
     "output_type": "execute_result"
    }
   ],
   "source": [
    "matrix.shape"
   ],
   "metadata": {
    "collapsed": false,
    "ExecuteTime": {
     "end_time": "2024-03-14T18:28:46.552078Z",
     "start_time": "2024-03-14T18:28:46.540117Z"
    }
   },
   "id": "a3787d1e40f65d1a",
   "execution_count": 70
  },
  {
   "cell_type": "code",
   "outputs": [
    {
     "data": {
      "text/plain": "10000"
     },
     "execution_count": 71,
     "metadata": {},
     "output_type": "execute_result"
    }
   ],
   "source": [
    "matrix[2][0]"
   ],
   "metadata": {
    "collapsed": false,
    "ExecuteTime": {
     "end_time": "2024-03-14T18:28:46.568083Z",
     "start_time": "2024-03-14T18:28:46.556066Z"
    }
   },
   "id": "3aec317f0516e940",
   "execution_count": 71
  },
  {
   "cell_type": "code",
   "outputs": [
    {
     "data": {
      "text/plain": "3250.0"
     },
     "execution_count": 75,
     "metadata": {},
     "output_type": "execute_result"
    }
   ],
   "source": [
    "#Calculando a media de um array\n",
    "np.mean(matrix[1])\n"
   ],
   "metadata": {
    "collapsed": false,
    "ExecuteTime": {
     "end_time": "2024-03-14T18:31:15.123844Z",
     "start_time": "2024-03-14T18:31:15.111018Z"
    }
   },
   "id": "3d69ed727d91b428",
   "execution_count": 75
  },
  {
   "cell_type": "code",
   "outputs": [
    {
     "data": {
      "text/plain": "3250.0"
     },
     "execution_count": 76,
     "metadata": {},
     "output_type": "execute_result"
    }
   ],
   "source": [
    "np.median(matrix)"
   ],
   "metadata": {
    "collapsed": false,
    "ExecuteTime": {
     "end_time": "2024-03-14T18:31:23.427694Z",
     "start_time": "2024-03-14T18:31:23.413087Z"
    }
   },
   "id": "ce64a8d68a669e1e",
   "execution_count": 76
  },
  {
   "cell_type": "code",
   "outputs": [
    {
     "data": {
      "text/plain": "array([ 85, 174, 248, 324])"
     },
     "execution_count": 83,
     "metadata": {},
     "output_type": "execute_result"
    }
   ],
   "source": [
    "array4 = np.array([24,85,74,69])\n",
    "array5 = np.array([85,89,74,76])\n",
    "#soma\n",
    "array4 + array5\n",
    "np.sum(array5)\n",
    "np.max(array5)\n",
    "np.min(array5)\n",
    "array5 * 2\n",
    "#soma acaumulada \n",
    "np.cumsum(array5)"
   ],
   "metadata": {
    "collapsed": false,
    "ExecuteTime": {
     "end_time": "2024-03-14T18:44:05.091243Z",
     "start_time": "2024-03-14T18:44:05.070586Z"
    }
   },
   "id": "6e7d964a06154869",
   "execution_count": 83
  },
  {
   "cell_type": "code",
   "outputs": [],
   "source": [],
   "metadata": {
    "collapsed": false
   },
   "id": "8d876f2c4fa346bc"
  }
 ],
 "metadata": {
  "kernelspec": {
   "display_name": "Python 3 (ipykernel)",
   "language": "python",
   "name": "python3"
  },
  "language_info": {
   "codemirror_mode": {
    "name": "ipython",
    "version": 3
   },
   "file_extension": ".py",
   "mimetype": "text/x-python",
   "name": "python",
   "nbconvert_exporter": "python",
   "pygments_lexer": "ipython3",
   "version": "3.9.7"
  }
 },
 "nbformat": 4,
 "nbformat_minor": 5
}
