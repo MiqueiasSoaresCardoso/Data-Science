{
 "cells": [
  {
   "cell_type": "code",
   "execution_count": 51,
   "id": "f8f862a8ca98554a",
   "metadata": {
    "collapsed": false,
    "ExecuteTime": {
     "end_time": "2024-03-18T19:49:45.715541Z",
     "start_time": "2024-03-18T19:49:44.891167Z"
    }
   },
   "outputs": [
    {
     "data": {
      "text/plain": "                                             Name  \\\n0          Dra. Damires Yluska de Souza Fernandes   \n1                   Dr. Diego Ernesto Rosa Pessoa   \n2      Dr. Francisco Petrônio Alencar de Medeiros   \n3                   Dra. Heremita Brasileiro Lira   \n4   Dra. Juliana Dantas Ribeiro Viana de Medeiros   \n5                   Dr. Katyusco de Farias Santos   \n6                      Dr. Lafayette Batista Melo   \n7                   Dra. Luciana Pereira Oliveira   \n8                 Dr. Paulo Ditarso Maciel Júnior   \n9                   Dr. Paulo Ribeiro Lins Júnior   \n10                         Dr. Ruan Delgado Gomes   \n11                    Dr. Thiago Gouveia da Silva   \n12                  Dr. Thiago José Marques Moura   \n13                    Dr. Edemberg Rocha da Silva   \n14                Dr. Francisco Dantas Nobre Neto   \n\n                      Linhas de Pesquisa  \\\n0   Gestão e Desenvolvimento de Sistemas   \n1   Gestão e Desenvolvimento de Sistemas   \n2   Gestão e Desenvolvimento de Sistemas   \n3   Gestão e Desenvolvimento de Sistemas   \n4   Gestão e Desenvolvimento de Sistemas   \n5   Gestão e Desenvolvimento de Sistemas   \n6   Gestão e Desenvolvimento de Sistemas   \n7          Redes e Sistemas Distribuídos   \n8          Redes e Sistemas Distribuídos   \n9          Redes e Sistemas Distribuídos   \n10         Redes e Sistemas Distribuídos   \n11         Redes e Sistemas Distribuídos   \n12  Gestão e Desenvolvimento de Sistemas   \n13  Gestão e Desenvolvimento de Sistemas   \n14  Gestão e Desenvolvimento de Sistemas   \n\n                                      Link                         Email  \n0   http://lattes.cnpq.br/9411293540915384           damires@ifpb.edu.br  \n1   http://lattes.cnpq.br/4442363726982518      diego.pessoa@ifpb.edu.br  \n2   http://lattes.cnpq.br/9716270626654261          petronio@ifpb.edu.br  \n3   http://lattes.cnpq.br/3532701873325164          heremita@ifpb.edu.br  \n4   http://lattes.cnpq.br/9730254173461923  juliana.medeiros@ifpb.edu.br  \n5   http://lattes.cnpq.br/1246085373474860   katyusco.santos@ifpb.edu.br  \n6   http://lattes.cnpq.br/2144574905285987    lafayette.melo@ifpb.edu.br  \n7   http://lattes.cnpq.br/4044015211881197  luciana.oliveira@ifpb.edu.br  \n8   http://lattes.cnpq.br/1101383196957378      paulo.maciel@ifpb.edu.br  \n9   http://lattes.cnpq.br/2720405345746056        paulo.lins@ifpb.edu.br  \n10  http://lattes.cnpq.br/0944963449027456        ruan.gomes@ifpb.edu.br  \n11  http://lattes.cnpq.br/2049877991330408    thiago.gouveia@ifpb.edu.br  \n12  http://lattes.cnpq.br/4818237460329665      thiago.moura@ifpb.edu.br  \n13  http://lattes.cnpq.br/2013678078020602          edemberg@ifpb.edu.br  \n14  http://lattes.cnpq.br/7562809854970378      dantas.nobre@ifpb.edu.br  ",
      "text/html": "<div>\n<style scoped>\n    .dataframe tbody tr th:only-of-type {\n        vertical-align: middle;\n    }\n\n    .dataframe tbody tr th {\n        vertical-align: top;\n    }\n\n    .dataframe thead th {\n        text-align: right;\n    }\n</style>\n<table border=\"1\" class=\"dataframe\">\n  <thead>\n    <tr style=\"text-align: right;\">\n      <th></th>\n      <th>Name</th>\n      <th>Linhas de Pesquisa</th>\n      <th>Link</th>\n      <th>Email</th>\n    </tr>\n  </thead>\n  <tbody>\n    <tr>\n      <th>0</th>\n      <td>Dra. Damires Yluska de Souza Fernandes</td>\n      <td>Gestão e Desenvolvimento de Sistemas</td>\n      <td>http://lattes.cnpq.br/9411293540915384</td>\n      <td>damires@ifpb.edu.br</td>\n    </tr>\n    <tr>\n      <th>1</th>\n      <td>Dr. Diego Ernesto Rosa Pessoa</td>\n      <td>Gestão e Desenvolvimento de Sistemas</td>\n      <td>http://lattes.cnpq.br/4442363726982518</td>\n      <td>diego.pessoa@ifpb.edu.br</td>\n    </tr>\n    <tr>\n      <th>2</th>\n      <td>Dr. Francisco Petrônio Alencar de Medeiros</td>\n      <td>Gestão e Desenvolvimento de Sistemas</td>\n      <td>http://lattes.cnpq.br/9716270626654261</td>\n      <td>petronio@ifpb.edu.br</td>\n    </tr>\n    <tr>\n      <th>3</th>\n      <td>Dra. Heremita Brasileiro Lira</td>\n      <td>Gestão e Desenvolvimento de Sistemas</td>\n      <td>http://lattes.cnpq.br/3532701873325164</td>\n      <td>heremita@ifpb.edu.br</td>\n    </tr>\n    <tr>\n      <th>4</th>\n      <td>Dra. Juliana Dantas Ribeiro Viana de Medeiros</td>\n      <td>Gestão e Desenvolvimento de Sistemas</td>\n      <td>http://lattes.cnpq.br/9730254173461923</td>\n      <td>juliana.medeiros@ifpb.edu.br</td>\n    </tr>\n    <tr>\n      <th>5</th>\n      <td>Dr. Katyusco de Farias Santos</td>\n      <td>Gestão e Desenvolvimento de Sistemas</td>\n      <td>http://lattes.cnpq.br/1246085373474860</td>\n      <td>katyusco.santos@ifpb.edu.br</td>\n    </tr>\n    <tr>\n      <th>6</th>\n      <td>Dr. Lafayette Batista Melo</td>\n      <td>Gestão e Desenvolvimento de Sistemas</td>\n      <td>http://lattes.cnpq.br/2144574905285987</td>\n      <td>lafayette.melo@ifpb.edu.br</td>\n    </tr>\n    <tr>\n      <th>7</th>\n      <td>Dra. Luciana Pereira Oliveira</td>\n      <td>Redes e Sistemas Distribuídos</td>\n      <td>http://lattes.cnpq.br/4044015211881197</td>\n      <td>luciana.oliveira@ifpb.edu.br</td>\n    </tr>\n    <tr>\n      <th>8</th>\n      <td>Dr. Paulo Ditarso Maciel Júnior</td>\n      <td>Redes e Sistemas Distribuídos</td>\n      <td>http://lattes.cnpq.br/1101383196957378</td>\n      <td>paulo.maciel@ifpb.edu.br</td>\n    </tr>\n    <tr>\n      <th>9</th>\n      <td>Dr. Paulo Ribeiro Lins Júnior</td>\n      <td>Redes e Sistemas Distribuídos</td>\n      <td>http://lattes.cnpq.br/2720405345746056</td>\n      <td>paulo.lins@ifpb.edu.br</td>\n    </tr>\n    <tr>\n      <th>10</th>\n      <td>Dr. Ruan Delgado Gomes</td>\n      <td>Redes e Sistemas Distribuídos</td>\n      <td>http://lattes.cnpq.br/0944963449027456</td>\n      <td>ruan.gomes@ifpb.edu.br</td>\n    </tr>\n    <tr>\n      <th>11</th>\n      <td>Dr. Thiago Gouveia da Silva</td>\n      <td>Redes e Sistemas Distribuídos</td>\n      <td>http://lattes.cnpq.br/2049877991330408</td>\n      <td>thiago.gouveia@ifpb.edu.br</td>\n    </tr>\n    <tr>\n      <th>12</th>\n      <td>Dr. Thiago José Marques Moura</td>\n      <td>Gestão e Desenvolvimento de Sistemas</td>\n      <td>http://lattes.cnpq.br/4818237460329665</td>\n      <td>thiago.moura@ifpb.edu.br</td>\n    </tr>\n    <tr>\n      <th>13</th>\n      <td>Dr. Edemberg Rocha da Silva</td>\n      <td>Gestão e Desenvolvimento de Sistemas</td>\n      <td>http://lattes.cnpq.br/2013678078020602</td>\n      <td>edemberg@ifpb.edu.br</td>\n    </tr>\n    <tr>\n      <th>14</th>\n      <td>Dr. Francisco Dantas Nobre Neto</td>\n      <td>Gestão e Desenvolvimento de Sistemas</td>\n      <td>http://lattes.cnpq.br/7562809854970378</td>\n      <td>dantas.nobre@ifpb.edu.br</td>\n    </tr>\n  </tbody>\n</table>\n</div>"
     },
     "execution_count": 51,
     "metadata": {},
     "output_type": "execute_result"
    }
   ],
   "source": [
    "from bs4 import BeautifulSoup\n",
    "import requests\n",
    "import pandas as pd\n",
    "import re\n",
    "\n",
    "urlbase = 'https://www.ifpb.edu.br/ppgti/programa/corpo-docente'\n",
    "headers = {'User-Agent': 'Mozilla/5.0 (iPhone; CPU iPhone OS 16_6 like Mac OS X) AppleWebKit/605.1.15 (KHTML, like Gecko) Version/16.6 Mobile/15E148 Safari/604.1 Edg/122.0.0.0'}\n",
    "response = requests.get(urlbase,headers=headers)\n",
    "if response.status_code == 200:\n",
    "    pagehtml = BeautifulSoup(response.content,'html.parser')\n",
    "    #neste código estamos puxando todos os H4 da pagina e formatando com o uso de uma 'forma' e uma estrutura de repetição\n",
    "    names = [h4.text.strip() for h4 in pagehtml.select('h4')]\n",
    "    #neste código estamos puxando todos os link lattes da pagina e formatando com o uso de uma 'forma' e uma estrutura de repetição, com isso selecionando só os lattes\n",
    "    links = [a['href'] for a in pagehtml.select('a[href^=\"http://lattes.cnpq.br/\"]')]\n",
    "    #removendo espaços em branco da lista de nomes\n",
    "    namesof = list(filter(None,names))\n",
    "    lista_email = []\n",
    "    # emails_request = [span.text.strip() for span in pagehtml.find_all('div', class_= 'parent-fieldname-text').find_all('span')]\n",
    "    linhas02 = [p.text.strip() for p in pagehtml.select('p')]\n",
    "    dados_cru = []\n",
    "    dados = []\n",
    "   \n",
    "    for linha in linhas02:\n",
    "        if 'Linha' in linha:\n",
    "            dados_cru.append(linha)\n",
    "\n",
    "    dados = \",\".join(dados_cru)\n",
    "    emails = re.findall(r'E-mail:\\s*([\\w\\.-]+@[\\w\\.-]+)', dados)\n",
    "    linhas = re.findall(r'Linha de Pesquisa: (.*?)Currículo Lattes',dados)\n",
    "    teste = linhas[13]\n",
    "    linhas.append(erro)\n",
    "    \n",
    " \n",
    "\n",
    "dataframe = pd.DataFrame({'Name':namesof,'Linhas de Pesquisa':linhas,'Link':links, 'Email':emails})\n",
    "dataframe\n",
    "    "
   ]
  },
  {
   "cell_type": "code",
   "execution_count": null,
   "id": "a9bfae76787e0b57",
   "metadata": {
    "collapsed": false,
    "ExecuteTime": {
     "end_time": "2024-03-18T19:37:43.920240Z",
     "start_time": "2024-03-18T19:37:43.920240Z"
    }
   },
   "outputs": [],
   "source": []
  },
  {
   "cell_type": "code",
   "execution_count": null,
   "id": "d30be8ac744653d3",
   "metadata": {
    "collapsed": false,
    "ExecuteTime": {
     "end_time": "2024-03-18T19:37:43.923441Z",
     "start_time": "2024-03-18T19:37:43.922386Z"
    }
   },
   "outputs": [],
   "source": []
  },
  {
   "cell_type": "code",
   "outputs": [],
   "source": [],
   "metadata": {
    "collapsed": false
   },
   "id": "1cbe21f1ee44b261",
   "execution_count": null
  },
  {
   "cell_type": "code",
   "outputs": [],
   "source": [],
   "metadata": {
    "collapsed": false,
    "ExecuteTime": {
     "start_time": "2024-03-18T19:37:43.928638Z"
    }
   },
   "id": "23951282e33c198b"
  }
 ],
 "metadata": {
  "kernelspec": {
   "display_name": "Python 3 (ipykernel)",
   "language": "python",
   "name": "python3"
  },
  "language_info": {
   "codemirror_mode": {
    "name": "ipython",
    "version": 3
   },
   "file_extension": ".py",
   "mimetype": "text/x-python",
   "name": "python",
   "nbconvert_exporter": "python",
   "pygments_lexer": "ipython3",
   "version": "3.9.7"
  }
 },
 "nbformat": 4,
 "nbformat_minor": 5
}
